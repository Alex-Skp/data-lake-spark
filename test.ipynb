{
 "cells": [
  {
   "cell_type": "code",
   "execution_count": 130,
   "source": [
    "import configparser\r\n",
    "from datetime import datetime\r\n",
    "import os\r\n",
    "from pyspark.sql import SparkSession\r\n",
    "from pyspark.sql.functions import udf, col\r\n",
    "from pyspark.sql.functions import year, month, dayofmonth, hour, weekofyear, date_format, from_unixtime, to_timestamp, dayofweek\r\n",
    "from pyspark.sql.types import StructType, StructField, DoubleType, StringType, IntegerType, DateType, FloatType, TimestampType"
   ],
   "outputs": [],
   "metadata": {}
  },
  {
   "cell_type": "code",
   "execution_count": 25,
   "source": [
    "config = configparser.ConfigParser()\r\n",
    "config.read('dl.cfg')\r\n",
    "\r\n",
    "os.environ['AWS_ACCESS_KEY_ID']=config.get('AWS', 'AWS_ACCESS_KEY_ID')\r\n",
    "os.environ['AWS_SECRET_ACCESS_KEY']=config.get('AWS', 'AWS_SECRET_ACCESS_KEY')"
   ],
   "outputs": [],
   "metadata": {}
  },
  {
   "cell_type": "code",
   "execution_count": 26,
   "source": [
    "def create_spark_session():\r\n",
    "    spark = SparkSession \\\r\n",
    "        .builder \\\r\n",
    "        .config(\"spark.jars.packages\", \"org.apache.hadoop:hadoop-aws:2.7.0\") \\\r\n",
    "        .getOrCreate()\r\n",
    "    return spark\r\n",
    "\r\n",
    "spark = create_spark_session()"
   ],
   "outputs": [],
   "metadata": {}
  },
  {
   "cell_type": "code",
   "execution_count": 27,
   "source": [
    "song_data = \"./data/song_data/*/*/*/*.json\""
   ],
   "outputs": [],
   "metadata": {}
  },
  {
   "cell_type": "code",
   "execution_count": 28,
   "source": [
    "song_data_schema = StructType([\r\n",
    "    StructField(\"num_songs\",         IntegerType()),\r\n",
    "    StructField(\"artist_id\",         StringType()),\r\n",
    "    StructField(\"artist_latitude\",   FloatType()),\r\n",
    "    StructField(\"artist_longitude\",  FloatType()),\r\n",
    "    StructField(\"artist_location\",   StringType()),\r\n",
    "    StructField(\"artist_name\",       StringType()),\r\n",
    "    StructField(\"song_id\",           StringType()),\r\n",
    "    StructField(\"title\",             StringType()),\r\n",
    "    StructField(\"duration\",          FloatType()),\r\n",
    "    StructField(\"year\",              IntegerType()),\r\n",
    "    ])"
   ],
   "outputs": [],
   "metadata": {}
  },
  {
   "cell_type": "code",
   "execution_count": 29,
   "source": [
    "df = spark.read.json(song_data, schema=song_data_schema)"
   ],
   "outputs": [],
   "metadata": {}
  },
  {
   "cell_type": "code",
   "execution_count": 30,
   "source": [
    "df.show(5)"
   ],
   "outputs": [
    {
     "output_type": "stream",
     "name": "stdout",
     "text": [
      "+---------+------------------+---------------+----------------+-----------------+--------------------+------------------+--------------------+---------+----+\n",
      "|num_songs|         artist_id|artist_latitude|artist_longitude|  artist_location|         artist_name|           song_id|               title| duration|year|\n",
      "+---------+------------------+---------------+----------------+-----------------+--------------------+------------------+--------------------+---------+----+\n",
      "|        1|ARDR4AC1187FB371A1|           null|            null|                 |Montserrat Caball...|SOBAYLL12A8C138AF9|Sono andati? Fing...|511.16364|   0|\n",
      "|        1|AREBBGV1187FB523D2|           null|            null|      Houston, TX|Mike Jones (Featu...|SOOLYAZ12A6701F4A6|Laws Patrolling (...|173.66159|   0|\n",
      "|        1|ARMAC4T1187FB3FA4C|       40.82624|       -74.47995|Morris Plains, NJ|The Dillinger Esc...|SOBBUGU12A8C13E95D|Setting Fire to S...|207.77751|2004|\n",
      "|        1|ARPBNLO1187FB3D52F|       40.71455|       -74.00712|     New York, NY|            Tiny Tim|SOAOIBZ12AB01815BE|I Hold Your Hand ...| 43.36281|2000|\n",
      "|        1|ARDNS031187B9924F0|       32.67828|       -83.22295|          Georgia|          Tim Wilson|SONYPOM12A8C13B2D7|I Think My Wife I...|186.48772|2005|\n",
      "+---------+------------------+---------------+----------------+-----------------+--------------------+------------------+--------------------+---------+----+\n",
      "only showing top 5 rows\n",
      "\n"
     ]
    }
   ],
   "metadata": {}
  },
  {
   "cell_type": "code",
   "execution_count": 48,
   "source": [
    "df.count()"
   ],
   "outputs": [
    {
     "output_type": "execute_result",
     "data": {
      "text/plain": [
       "71"
      ]
     },
     "metadata": {},
     "execution_count": 48
    }
   ],
   "metadata": {}
  },
  {
   "cell_type": "code",
   "execution_count": 54,
   "source": [
    "songs_table = df.select(\"song_id\", \"title\", \"artist_id\", \"year\", col(\"duration\"))"
   ],
   "outputs": [],
   "metadata": {}
  },
  {
   "cell_type": "code",
   "execution_count": 55,
   "source": [
    "songs_table.show(5)"
   ],
   "outputs": [
    {
     "output_type": "stream",
     "name": "stdout",
     "text": [
      "+------------------+--------------------+------------------+----+---------+\n",
      "|           song_id|               title|         artist_id|year| duration|\n",
      "+------------------+--------------------+------------------+----+---------+\n",
      "|SOBAYLL12A8C138AF9|Sono andati? Fing...|ARDR4AC1187FB371A1|   0|511.16364|\n",
      "|SOOLYAZ12A6701F4A6|Laws Patrolling (...|AREBBGV1187FB523D2|   0|173.66159|\n",
      "|SOBBUGU12A8C13E95D|Setting Fire to S...|ARMAC4T1187FB3FA4C|2004|207.77751|\n",
      "|SOAOIBZ12AB01815BE|I Hold Your Hand ...|ARPBNLO1187FB3D52F|2000| 43.36281|\n",
      "|SONYPOM12A8C13B2D7|I Think My Wife I...|ARDNS031187B9924F0|2005|186.48772|\n",
      "+------------------+--------------------+------------------+----+---------+\n",
      "only showing top 5 rows\n",
      "\n"
     ]
    }
   ],
   "metadata": {}
  },
  {
   "cell_type": "code",
   "execution_count": 49,
   "source": [
    "songs_table.count()"
   ],
   "outputs": [
    {
     "output_type": "execute_result",
     "data": {
      "text/plain": [
       "71"
      ]
     },
     "metadata": {},
     "execution_count": 49
    }
   ],
   "metadata": {}
  },
  {
   "cell_type": "code",
   "execution_count": 59,
   "source": [
    "artists_table = df.select(\"artist_id\",\r\n",
    "                              col(\"artist_name\").alias(\"name\"),\r\n",
    "                              col(\"artist_location\").alias(\"location\"),\r\n",
    "                              col(\"artist_latitude\").alias(\"latitude\"),\r\n",
    "                              col(\"artist_longitude\").alias(\"longitude\")).distinct()"
   ],
   "outputs": [],
   "metadata": {}
  },
  {
   "cell_type": "code",
   "execution_count": 60,
   "source": [
    "\r\n",
    "log_data = \"./data/log_data\""
   ],
   "outputs": [],
   "metadata": {}
  },
  {
   "cell_type": "code",
   "execution_count": 90,
   "source": [
    "    df = spark.read.json(log_data)\r\n"
   ],
   "outputs": [],
   "metadata": {}
  },
  {
   "cell_type": "code",
   "execution_count": 91,
   "source": [
    "    df = df.filter(\"page == 'NextSong'\")\r\n"
   ],
   "outputs": [],
   "metadata": {}
  },
  {
   "cell_type": "code",
   "execution_count": 92,
   "source": [
    "df.count()"
   ],
   "outputs": [
    {
     "output_type": "execute_result",
     "data": {
      "text/plain": [
       "6820"
      ]
     },
     "metadata": {},
     "execution_count": 92
    }
   ],
   "metadata": {}
  },
  {
   "cell_type": "code",
   "execution_count": 93,
   "source": [
    "    users_table = df.select(col(\"userId\").alias(\"user_id\"),\r\n",
    "                            col(\"firstName\").alias(\"first_name\"),\r\n",
    "                            col(\"lastName\").alias(\"last_name\"),\r\n",
    "                            col(\"gender\"),\r\n",
    "                            col(\"level\")).distinct()"
   ],
   "outputs": [],
   "metadata": {}
  },
  {
   "cell_type": "code",
   "execution_count": 94,
   "source": [
    "users_table.show()"
   ],
   "outputs": [
    {
     "output_type": "stream",
     "name": "stdout",
     "text": [
      "+-------+----------+---------+------+-----+\n",
      "|user_id|first_name|last_name|gender|level|\n",
      "+-------+----------+---------+------+-----+\n",
      "|     26|      Ryan|    Smith|     M| free|\n",
      "|      7|    Adelyn|   Jordan|     F| free|\n",
      "|     71|    Ayleen|     Wise|     F| free|\n",
      "|     81|    Sienna|    Colon|     F| free|\n",
      "|     87|    Dustin|      Lee|     M| free|\n",
      "|     23|    Morris|  Gilmore|     M| free|\n",
      "|     75|    Joseph|Gutierrez|     M| free|\n",
      "|     16|     Rylan|   George|     M| paid|\n",
      "|      2|   Jizelle| Benjamin|     F| free|\n",
      "|      3|     Isaac|   Valdez|     M| free|\n",
      "|     54|     Kaleb|     Cook|     M| free|\n",
      "|     79|     James|   Martin|     M| free|\n",
      "|     80|     Tegan|   Levine|     F| paid|\n",
      "|     77| Magdalene|   Herman|     F| free|\n",
      "|     47|    Kimber|   Norris|     F| free|\n",
      "|     30|     Avery|  Watkins|     F| paid|\n",
      "|     22|      Sean|   Wilson|     F| free|\n",
      "|      4|    Alivia|  Terrell|     F| free|\n",
      "|     55|    Martin|  Johnson|     M| free|\n",
      "|     20|     Aiden|  Ramirez|     M| paid|\n",
      "+-------+----------+---------+------+-----+\n",
      "only showing top 20 rows\n",
      "\n"
     ]
    }
   ],
   "metadata": {}
  },
  {
   "cell_type": "code",
   "execution_count": 95,
   "source": [
    "df.show(2)"
   ],
   "outputs": [
    {
     "output_type": "stream",
     "name": "stdout",
     "text": [
      "+-----------+---------+---------+------+-------------+--------+---------+-----+--------------------+------+--------+-----------------+---------+---------------+------+-------------+--------------------+------+\n",
      "|     artist|     auth|firstName|gender|itemInSession|lastName|   length|level|            location|method|    page|     registration|sessionId|           song|status|           ts|           userAgent|userId|\n",
      "+-----------+---------+---------+------+-------------+--------+---------+-----+--------------------+------+--------+-----------------+---------+---------------+------+-------------+--------------------+------+\n",
      "|   Harmonia|Logged In|     Ryan|     M|            0|   Smith|655.77751| free|San Jose-Sunnyval...|   PUT|NextSong|1.541016707796E12|      583|  Sehr kosmisch|   200|1542241826796|\"Mozilla/5.0 (X11...|    26|\n",
      "|The Prodigy|Logged In|     Ryan|     M|            1|   Smith|260.07465| free|San Jose-Sunnyval...|   PUT|NextSong|1.541016707796E12|      583|The Big Gundown|   200|1542242481796|\"Mozilla/5.0 (X11...|    26|\n",
      "+-----------+---------+---------+------+-------------+--------+---------+-----+--------------------+------+--------+-----------------+---------+---------------+------+-------------+--------------------+------+\n",
      "only showing top 2 rows\n",
      "\n"
     ]
    }
   ],
   "metadata": {}
  },
  {
   "cell_type": "code",
   "execution_count": 120,
   "source": [
    "get_timestamp = udf(lambda x: from_unixtime(x/1000),  StringType())"
   ],
   "outputs": [],
   "metadata": {}
  },
  {
   "cell_type": "code",
   "execution_count": 121,
   "source": [
    "df = df.na.drop(subset=[\"ts\"])"
   ],
   "outputs": [],
   "metadata": {}
  },
  {
   "cell_type": "code",
   "execution_count": 124,
   "source": [
    "df = df.withColumn(\"timestamp\", from_unixtime(col(\"ts\")/1000))"
   ],
   "outputs": [],
   "metadata": {}
  },
  {
   "cell_type": "code",
   "execution_count": 125,
   "source": [
    "df.show(2)"
   ],
   "outputs": [
    {
     "output_type": "stream",
     "name": "stdout",
     "text": [
      "+-----------+---------+---------+------+-------------+--------+---------+-----+--------------------+------+--------+-----------------+---------+---------------+------+-------------+--------------------+------+-------------------+\n",
      "|     artist|     auth|firstName|gender|itemInSession|lastName|   length|level|            location|method|    page|     registration|sessionId|           song|status|           ts|           userAgent|userId|          timestamp|\n",
      "+-----------+---------+---------+------+-------------+--------+---------+-----+--------------------+------+--------+-----------------+---------+---------------+------+-------------+--------------------+------+-------------------+\n",
      "|   Harmonia|Logged In|     Ryan|     M|            0|   Smith|655.77751| free|San Jose-Sunnyval...|   PUT|NextSong|1.541016707796E12|      583|  Sehr kosmisch|   200|1542241826796|\"Mozilla/5.0 (X11...|    26|2018-11-15 01:30:26|\n",
      "|The Prodigy|Logged In|     Ryan|     M|            1|   Smith|260.07465| free|San Jose-Sunnyval...|   PUT|NextSong|1.541016707796E12|      583|The Big Gundown|   200|1542242481796|\"Mozilla/5.0 (X11...|    26|2018-11-15 01:41:21|\n",
      "+-----------+---------+---------+------+-------------+--------+---------+-----+--------------------+------+--------+-----------------+---------+---------------+------+-------------+--------------------+------+-------------------+\n",
      "only showing top 2 rows\n",
      "\n"
     ]
    }
   ],
   "metadata": {}
  },
  {
   "cell_type": "code",
   "execution_count": 129,
   "source": [
    "df.select(year(col(\"timestamp\"))).show()"
   ],
   "outputs": [
    {
     "output_type": "stream",
     "name": "stdout",
     "text": [
      "+---------------+\n",
      "|year(timestamp)|\n",
      "+---------------+\n",
      "|           2018|\n",
      "|           2018|\n",
      "|           2018|\n",
      "|           2018|\n",
      "|           2018|\n",
      "|           2018|\n",
      "|           2018|\n",
      "|           2018|\n",
      "|           2018|\n",
      "|           2018|\n",
      "|           2018|\n",
      "|           2018|\n",
      "|           2018|\n",
      "|           2018|\n",
      "|           2018|\n",
      "|           2018|\n",
      "|           2018|\n",
      "|           2018|\n",
      "|           2018|\n",
      "|           2018|\n",
      "+---------------+\n",
      "only showing top 20 rows\n",
      "\n"
     ]
    }
   ],
   "metadata": {}
  },
  {
   "cell_type": "code",
   "execution_count": 133,
   "source": [
    "time_table = df.select(col(\"timestamp\").alias(\"start_time\"),\r\n",
    "                           hour(col(\"timestamp\")).alias(\"hour\"),\r\n",
    "                           dayofmonth(col(\"timestamp\")).alias(\"day\"),\r\n",
    "                           weekofyear(col(\"timestamp\")).alias(\"week\"),\r\n",
    "                           month(col(\"timestamp\")).alias(\"month\"),\r\n",
    "                           year(col(\"timestamp\")).alias(\"year\"),\r\n",
    "                           dayofweek(col(\"timestamp\")).alias(\"weekday\")\r\n",
    "                           ).distinct()"
   ],
   "outputs": [],
   "metadata": {}
  },
  {
   "cell_type": "code",
   "execution_count": 135,
   "source": [
    "time_table.show()"
   ],
   "outputs": [
    {
     "output_type": "stream",
     "name": "stdout",
     "text": [
      "+-------------------+----+---+----+-----+----+-------+\n",
      "|         start_time|hour|day|week|month|year|weekday|\n",
      "+-------------------+----+---+----+-----+----+-------+\n",
      "|2018-11-15 12:37:52|  12| 15|  46|   11|2018|      5|\n",
      "|2018-11-15 13:44:06|  13| 15|  46|   11|2018|      5|\n",
      "|2018-11-15 17:01:10|  17| 15|  46|   11|2018|      5|\n",
      "|2018-11-15 17:42:27|  17| 15|  46|   11|2018|      5|\n",
      "|2018-11-21 09:11:10|   9| 21|  47|   11|2018|      4|\n",
      "|2018-11-21 23:09:04|  23| 21|  47|   11|2018|      4|\n",
      "|2018-11-14 13:33:18|  13| 14|  46|   11|2018|      4|\n",
      "|2018-11-28 12:41:40|  12| 28|  48|   11|2018|      4|\n",
      "|2018-11-05 14:54:56|  14|  5|  45|   11|2018|      2|\n",
      "|2018-11-30 06:15:12|   6| 30|  48|   11|2018|      6|\n",
      "|2018-11-30 07:48:28|   7| 30|  48|   11|2018|      6|\n",
      "|2018-11-30 11:35:18|  11| 30|  48|   11|2018|      6|\n",
      "|2018-11-16 19:30:49|  19| 16|  46|   11|2018|      6|\n",
      "|2018-11-16 19:34:09|  19| 16|  46|   11|2018|      6|\n",
      "|2018-11-20 09:11:14|   9| 20|  47|   11|2018|      3|\n",
      "|2018-11-20 09:20:51|   9| 20|  47|   11|2018|      3|\n",
      "|2018-11-20 16:59:06|  16| 20|  47|   11|2018|      3|\n",
      "|2018-11-24 08:09:34|   8| 24|  47|   11|2018|      7|\n",
      "|2018-11-24 12:39:38|  12| 24|  47|   11|2018|      7|\n",
      "|2018-11-24 13:15:27|  13| 24|  47|   11|2018|      7|\n",
      "+-------------------+----+---+----+-----+----+-------+\n",
      "only showing top 20 rows\n",
      "\n"
     ]
    }
   ],
   "metadata": {}
  },
  {
   "cell_type": "code",
   "execution_count": null,
   "source": [],
   "outputs": [],
   "metadata": {}
  }
 ],
 "metadata": {
  "orig_nbformat": 4,
  "language_info": {
   "name": "python",
   "version": "3.7.9",
   "mimetype": "text/x-python",
   "codemirror_mode": {
    "name": "ipython",
    "version": 3
   },
   "pygments_lexer": "ipython3",
   "nbconvert_exporter": "python",
   "file_extension": ".py"
  },
  "kernelspec": {
   "name": "python3",
   "display_name": "Python 3.7.9 64-bit ('default': conda)"
  },
  "interpreter": {
   "hash": "1bf5c149a9419f974267fca6aaea82771a78cdff0d601fccf168c8e8626016a9"
  }
 },
 "nbformat": 4,
 "nbformat_minor": 2
}